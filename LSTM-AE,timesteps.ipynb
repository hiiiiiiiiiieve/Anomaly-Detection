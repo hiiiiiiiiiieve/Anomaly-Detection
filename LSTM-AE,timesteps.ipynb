{
  "cells": [
    {
      "cell_type": "markdown",
      "metadata": {
        "id": "view-in-github",
        "colab_type": "text"
      },
      "source": [
        "<a href=\"https://colab.research.google.com/github/hiiiiiiiiiieve/Anomaly-Detection/blob/main/LSTM-AE%2C_timesteps.ipynb\" target=\"_parent\"><img src=\"https://colab.research.google.com/assets/colab-badge.svg\" alt=\"Open In Colab\"/></a>"
      ]
    },
    {
      "cell_type": "markdown",
      "id": "c7f0eb54",
      "metadata": {
        "id": "c7f0eb54"
      },
      "source": [
        "# 의견\n",
        "* 그림 2는 그림 1에 나타낸 복원 오차 그래프에서 분할 비율 가 0.5, 0.25일 때 분할된 범위를 나타낸 것이다. 이 예는 분할 비율이 0.5일 때 보다 0.25일 때 이상 데이터를 더 많이 감지하지만, 상대적으로 더 많은 정상 데이터를 이상 데이터로 결정한다. 이 경우에 거짓 음성은 감소하지만, 거짓 양성은 증가한다. 즉, 분할 비율이 LSTM AE의 이상 감지 성능에 영향을 줄 수 있다.(LSTM 오토인코더를 이용한 이상 탐지의 임계치 결정 방법)\n",
        "* 공장에서 이상치를 민감하게 판단하여 최대한 고장을 줄이기 위해서는 이상 데이터를 정상 데이터로 잘못 인식하는 것보다는 '상대적으로 더 많은 정상 데이터를 이상 데이터로 결정'하는 것이 더 낫다고 판단하여 0.5로 임계치 결정"
      ]
    },
    {
      "cell_type": "markdown",
      "id": "5a1d51f1",
      "metadata": {
        "id": "5a1d51f1"
      },
      "source": [
        "# 데이터 확인"
      ]
    },
    {
      "cell_type": "code",
      "source": [
        "from google.colab import drive\n",
        "drive.mount('/content/drive')"
      ],
      "metadata": {
        "colab": {
          "base_uri": "https://localhost:8080/"
        },
        "id": "gKdn8AdWQRw0",
        "outputId": "d4e288fc-fe05-49a8-b58d-0e9e4c5e11da"
      },
      "id": "gKdn8AdWQRw0",
      "execution_count": 7,
      "outputs": [
        {
          "output_type": "stream",
          "name": "stdout",
          "text": [
            "Drive already mounted at /content/drive; to attempt to forcibly remount, call drive.mount(\"/content/drive\", force_remount=True).\n"
          ]
        }
      ]
    },
    {
      "cell_type": "code",
      "execution_count": 8,
      "id": "b595b0ee",
      "metadata": {
        "id": "b595b0ee"
      },
      "outputs": [],
      "source": [
        "import pandas as pd\n",
        "\n",
        "df1 = pd.read_csv(\"/content/drive/MyDrive/study/Private/1. 시계열 데이터 예측/1. dataset/gt_2011.csv\")\n",
        "df2 = pd.read_csv(\"/content/drive/MyDrive/study/Private/1. 시계열 데이터 예측/1. dataset/gt_2012.csv\")\n",
        "df3 = pd.read_csv(\"/content/drive/MyDrive/study/Private/1. 시계열 데이터 예측/1. dataset/gt_2013.csv\")\n",
        "df4 = pd.read_csv(\"/content/drive/MyDrive/study/Private/1. 시계열 데이터 예측/1. dataset/gt_2014.csv\")\n",
        "df5 = pd.read_csv(\"/content/drive/MyDrive/study/Private/1. 시계열 데이터 예측/1. dataset/gt_2015.csv\")\n",
        "gt_at = pd.concat([df1, df2, df3, df4, df5], ignore_index=True)\n",
        "gt_at = gt_at[['AT']]"
      ]
    },
    {
      "cell_type": "markdown",
      "id": "0f9435b5",
      "metadata": {
        "id": "0f9435b5"
      },
      "source": [
        "# LSTM-Autoencoder timesteps\n",
        "## 10"
      ]
    },
    {
      "cell_type": "code",
      "execution_count": 9,
      "id": "e8626118",
      "metadata": {
        "id": "e8626118",
        "outputId": "7a812e94-498b-4ffa-c9eb-125850277ca6",
        "colab": {
          "base_uri": "https://localhost:8080/",
          "height": 1000
        }
      },
      "outputs": [
        {
          "output_type": "stream",
          "name": "stderr",
          "text": [
            "WARNING:tensorflow:Layer lstm_2 will not use cuDNN kernels since it doesn't meet the criteria. It will use a generic GPU kernel as fallback when running on GPU.\n",
            "WARNING:tensorflow:Layer lstm_3 will not use cuDNN kernels since it doesn't meet the criteria. It will use a generic GPU kernel as fallback when running on GPU.\n"
          ]
        },
        {
          "output_type": "stream",
          "name": "stdout",
          "text": [
            "Epoch 1/50\n",
            "1148/1148 [==============================] - 46s 37ms/step - loss: 0.0296\n",
            "Epoch 2/50\n",
            "1148/1148 [==============================] - 39s 34ms/step - loss: 0.0032\n",
            "Epoch 3/50\n",
            "1148/1148 [==============================] - 39s 34ms/step - loss: 0.0024\n",
            "Epoch 4/50\n",
            "1148/1148 [==============================] - 39s 34ms/step - loss: 0.0016\n",
            "Epoch 5/50\n",
            "1148/1148 [==============================] - 40s 35ms/step - loss: 0.0018\n",
            "Epoch 6/50\n",
            "1148/1148 [==============================] - 40s 34ms/step - loss: 0.0015\n",
            "Epoch 7/50\n",
            "1148/1148 [==============================] - 44s 38ms/step - loss: 0.0014\n",
            "Epoch 8/50\n",
            "1148/1148 [==============================] - 38s 33ms/step - loss: 0.0013\n",
            "Epoch 9/50\n",
            "1148/1148 [==============================] - 41s 36ms/step - loss: 0.0010\n",
            "Epoch 10/50\n",
            "1148/1148 [==============================] - 43s 37ms/step - loss: 8.6580e-04\n",
            "Epoch 11/50\n",
            "1148/1148 [==============================] - 39s 34ms/step - loss: 8.0147e-04\n",
            "Epoch 12/50\n",
            "1148/1148 [==============================] - 41s 36ms/step - loss: 7.6103e-04\n",
            "Epoch 13/50\n",
            "1148/1148 [==============================] - 42s 36ms/step - loss: 7.6024e-04\n",
            "Epoch 14/50\n",
            "1148/1148 [==============================] - 43s 38ms/step - loss: 7.2857e-04\n",
            "Epoch 15/50\n",
            "1148/1148 [==============================] - 39s 34ms/step - loss: 6.8439e-04\n",
            "Epoch 16/50\n",
            "1148/1148 [==============================] - 38s 33ms/step - loss: 6.0474e-04\n",
            "Epoch 17/50\n",
            "1148/1148 [==============================] - 36s 31ms/step - loss: 5.1782e-04\n",
            "Epoch 18/50\n",
            "1148/1148 [==============================] - 37s 32ms/step - loss: 5.2307e-04\n",
            "Epoch 19/50\n",
            "1148/1148 [==============================] - 36s 31ms/step - loss: 4.5602e-04\n",
            "Epoch 20/50\n",
            "1148/1148 [==============================] - 41s 36ms/step - loss: 4.4697e-04\n",
            "Epoch 21/50\n",
            "1148/1148 [==============================] - 38s 33ms/step - loss: 4.4071e-04\n",
            "Epoch 22/50\n",
            "1148/1148 [==============================] - 38s 33ms/step - loss: 4.0194e-04\n",
            "Epoch 23/50\n",
            "1148/1148 [==============================] - 39s 34ms/step - loss: 4.0043e-04\n",
            "Epoch 24/50\n",
            "1148/1148 [==============================] - 38s 33ms/step - loss: 3.9144e-04\n",
            "Epoch 25/50\n",
            "1148/1148 [==============================] - 40s 35ms/step - loss: 3.5190e-04\n",
            "Epoch 26/50\n",
            "1148/1148 [==============================] - 36s 31ms/step - loss: 2.9083e-04\n",
            "Epoch 27/50\n",
            "1148/1148 [==============================] - 39s 34ms/step - loss: 2.5471e-04\n",
            "Epoch 28/50\n",
            "1148/1148 [==============================] - 38s 33ms/step - loss: 2.5776e-04\n",
            "Epoch 29/50\n",
            "1148/1148 [==============================] - 41s 35ms/step - loss: 2.6145e-04\n",
            "Epoch 30/50\n",
            "1148/1148 [==============================] - 38s 33ms/step - loss: 2.3243e-04\n",
            "Epoch 31/50\n",
            "1148/1148 [==============================] - 39s 34ms/step - loss: 2.3739e-04\n",
            "Epoch 32/50\n",
            "1148/1148 [==============================] - 38s 33ms/step - loss: 2.4297e-04\n",
            "Epoch 33/50\n",
            "1148/1148 [==============================] - 36s 32ms/step - loss: 2.2113e-04\n",
            "Epoch 34/50\n",
            "1148/1148 [==============================] - 38s 33ms/step - loss: 2.1984e-04\n",
            "Epoch 35/50\n",
            "1148/1148 [==============================] - 36s 32ms/step - loss: 2.1329e-04\n",
            "Epoch 36/50\n",
            "1148/1148 [==============================] - 43s 38ms/step - loss: 2.2630e-04\n",
            "Epoch 37/50\n",
            "1148/1148 [==============================] - 36s 32ms/step - loss: 1.9624e-04\n",
            "Epoch 38/50\n",
            "1148/1148 [==============================] - 41s 36ms/step - loss: 2.1188e-04\n",
            "Epoch 39/50\n",
            "1148/1148 [==============================] - 41s 36ms/step - loss: 1.7857e-04\n",
            "Epoch 40/50\n",
            "1148/1148 [==============================] - 40s 35ms/step - loss: 1.5708e-04\n",
            "Epoch 41/50\n",
            "1148/1148 [==============================] - 42s 37ms/step - loss: 1.4595e-04\n",
            "Epoch 42/50\n",
            "1148/1148 [==============================] - 44s 38ms/step - loss: 1.2811e-04\n",
            "Epoch 43/50\n",
            "1148/1148 [==============================] - 41s 36ms/step - loss: 1.3565e-04\n",
            "Epoch 44/50\n",
            "1148/1148 [==============================] - 38s 33ms/step - loss: 1.2756e-04\n",
            "Epoch 45/50\n",
            "1148/1148 [==============================] - 41s 35ms/step - loss: 1.2584e-04\n",
            "Epoch 46/50\n",
            "1148/1148 [==============================] - 43s 37ms/step - loss: 1.2111e-04\n",
            "Epoch 47/50\n",
            "1148/1148 [==============================] - 47s 41ms/step - loss: 1.1376e-04\n",
            "Epoch 48/50\n",
            "1148/1148 [==============================] - 37s 32ms/step - loss: 1.1985e-04\n",
            "Epoch 49/50\n",
            "1148/1148 [==============================] - 44s 38ms/step - loss: 1.0563e-04\n",
            "Epoch 50/50\n",
            "1148/1148 [==============================] - 46s 40ms/step - loss: 1.2329e-04\n",
            "1148/1148 [==============================] - 7s 6ms/step\n"
          ]
        },
        {
          "output_type": "display_data",
          "data": {
            "text/plain": [
              "<Figure size 640x480 with 1 Axes>"
            ],
            "image/png": "[encoded data removed]"
          },
          "metadata": {}
        },
        {
          "output_type": "stream",
          "name": "stdout",
          "text": [
            "Number of anomalies: 1837\n"
          ]
        }
      ],
      "source": [
        "import numpy as np\n",
        "import pandas as pd\n",
        "import matplotlib.pyplot as plt\n",
        "from sklearn.preprocessing import StandardScaler\n",
        "from tensorflow.keras.models import Model\n",
        "from tensorflow.keras.layers import Input, Dense, LSTM, RepeatVector, TimeDistributed\n",
        "from sklearn.cluster import KMeans\n",
        "from tensorflow.keras.layers import LSTM, RepeatVector, TimeDistributed\n",
        "\n",
        "# LSTM-Autoencoder 모델 정의\n",
        "scaler = StandardScaler()\n",
        "gt_at['AT_scaled'] = scaler.fit_transform(gt_at[['AT']])\n",
        "timesteps = 10  # 시퀀스 길이\n",
        "input_dim = 1   # 특성 수 (AT만 사용)\n",
        "\n",
        "def create_lstm_autoencoder(timesteps, input_dim):\n",
        "    inputs = Input(shape=(timesteps, input_dim))\n",
        "    \"\"\"128: LSTM 레이어 유닛 -> 클수록 정보 학습과 저장 많이 할 수 있지만 과적합도 증가하는 문제 발생 가능\"\"\"\n",
        "    \"\"\"relu: 비선형성, 계산 효율성, 기울기 소실 문제 완화, 희소 활성화 가능\n",
        "    BUT 죽은 relu(음수 입력에 대해 0이 출력되어 업데이트 안되는 문제 발생)\n",
        "    activation=LeakyReLU(alpha=0.01) 활용해보기\"\"\"\n",
        "    # 인코더\n",
        "    encoded = LSTM(128, activation='relu', return_sequences=False)(inputs)\n",
        "    encoded = RepeatVector(timesteps)(encoded)\n",
        "    # 디코더\n",
        "    decoded = LSTM(128, activation='relu', return_sequences=True)(encoded)\n",
        "    decoded = TimeDistributed(Dense(input_dim))(decoded)\n",
        "    autoencoder = Model(inputs, decoded)\n",
        "    return autoencoder\n",
        "\n",
        "autoencoder = create_lstm_autoencoder(timesteps, input_dim)\n",
        "autoencoder.compile(optimizer='adam', loss='mse')\n",
        "\n",
        "# 시퀀스 데이터 생성\n",
        "def create_sequences(data, timesteps):\n",
        "    sequences = []\n",
        "    for i in range(len(data) - timesteps):\n",
        "        seq = data[i:i + timesteps]\n",
        "        sequences.append(seq)\n",
        "    return np.array(sequences)\n",
        "\n",
        "sequences = create_sequences(gt_at['AT_scaled'].values.reshape(-1, 1), timesteps)\n",
        "autoencoder.fit(sequences, sequences, epochs=50, batch_size=32, shuffle=True)\n",
        "\n",
        "# 재구성 오차 계산\n",
        "reconstructed_sequences = autoencoder.predict(sequences)\n",
        "mse = np.mean(np.power(sequences - reconstructed_sequences, 2), axis=1)\n",
        "\n",
        "# 이상 탐지 결과 시각화\n",
        "## 임계값은 보통 아래와 같이 결정됨\n",
        "threshold = np.percentile(mse, 95)  # 95% 퍼센타일을 이상 탐지 임계값으로 설정\n",
        "anomalies = mse > threshold\n",
        "\n",
        "plt.plot(gt_at['AT'].values)\n",
        "plt.scatter(np.where(anomalies)[0], gt_at['AT'].values[np.where(anomalies)[0]], color='r')  # 수정된 부분\n",
        "plt.title('Anomaly Detection using LSTM-Autoencoder')\n",
        "plt.show()\n",
        "\n",
        "# 이상치 개수 계산 및 출력\n",
        "num_anomalies = np.sum(anomalies)\n",
        "print(f\"Number of anomalies: {num_anomalies}\")"
      ]
    },
    {
      "cell_type": "markdown",
      "id": "b0fdd41c",
      "metadata": {
        "id": "b0fdd41c"
      },
      "source": [
        "## 30"
      ]
    },
    {
      "cell_type": "code",
      "execution_count": null,
      "id": "ae340ce9",
      "metadata": {
        "scrolled": true,
        "id": "ae340ce9",
        "outputId": "c2ef8b68-772a-4deb-f934-8c0e1a83a9ea",
        "colab": {
          "base_uri": "https://localhost:8080/"
        }
      },
      "outputs": [
        {
          "metadata": {
            "tags": null
          },
          "name": "stderr",
          "output_type": "stream",
          "text": [
            "WARNING:tensorflow:Layer lstm_4 will not use cuDNN kernels since it doesn't meet the criteria. It will use a generic GPU kernel as fallback when running on GPU.\n",
            "WARNING:tensorflow:Layer lstm_5 will not use cuDNN kernels since it doesn't meet the criteria. It will use a generic GPU kernel as fallback when running on GPU.\n"
          ]
        },
        {
          "output_type": "stream",
          "name": "stdout",
          "text": [
            "Epoch 1/50\n",
            "1147/1147 [==============================] - 108s 92ms/step - loss: 0.0662\n",
            "Epoch 2/50\n",
            "1147/1147 [==============================] - 112s 97ms/step - loss: 0.0098\n",
            "Epoch 3/50\n",
            "1147/1147 [==============================] - 104s 90ms/step - loss: 0.0076\n",
            "Epoch 4/50\n",
            "1147/1147 [==============================] - 104s 90ms/step - loss: 0.0063\n",
            "Epoch 5/50\n",
            "1147/1147 [==============================] - 103s 90ms/step - loss: 0.0057\n",
            "Epoch 6/50\n",
            "1147/1147 [==============================] - 103s 90ms/step - loss: 0.0050\n",
            "Epoch 7/50\n",
            "1147/1147 [==============================] - 109s 95ms/step - loss: 0.0048\n",
            "Epoch 8/50\n",
            "1147/1147 [==============================] - 108s 94ms/step - loss: 0.0044\n",
            "Epoch 9/50\n",
            "1147/1147 [==============================] - 106s 92ms/step - loss: 0.0037\n",
            "Epoch 10/50\n",
            "1147/1147 [==============================] - 104s 91ms/step - loss: 0.0035\n",
            "Epoch 11/50\n",
            "1147/1147 [==============================] - 104s 90ms/step - loss: 0.0032\n",
            "Epoch 12/50\n",
            "1147/1147 [==============================] - 104s 91ms/step - loss: 0.0027\n",
            "Epoch 13/50\n",
            "1147/1147 [==============================] - 110s 96ms/step - loss: 0.0026\n",
            "Epoch 14/50\n",
            "1147/1147 [==============================] - 100s 87ms/step - loss: 0.0023\n",
            "Epoch 15/50\n",
            "1147/1147 [==============================] - 104s 90ms/step - loss: 0.0021\n",
            "Epoch 16/50\n",
            "1147/1147 [==============================] - 103s 90ms/step - loss: 0.0020\n",
            "Epoch 17/50\n",
            "1147/1147 [==============================] - 104s 91ms/step - loss: 0.0018\n",
            "Epoch 18/50\n",
            "1147/1147 [==============================] - 103s 90ms/step - loss: 0.0017\n",
            "Epoch 19/50\n",
            "1147/1147 [==============================] - 106s 93ms/step - loss: 0.0016\n",
            "Epoch 20/50\n",
            "1147/1147 [==============================] - 103s 89ms/step - loss: 0.0016\n",
            "Epoch 21/50\n",
            "1147/1147 [==============================] - 105s 91ms/step - loss: 0.0015\n",
            "Epoch 22/50\n",
            " 482/1147 [===========>..................] - ETA: 1:03 - loss: 0.0014"
          ]
        }
      ],
      "source": [
        "from tensorflow.keras.layers import LSTM, RepeatVector, TimeDistributed\n",
        "import numpy as np\n",
        "import pandas as pd\n",
        "import matplotlib.pyplot as plt\n",
        "from sklearn.preprocessing import StandardScaler\n",
        "from tensorflow.keras.models import Model\n",
        "from tensorflow.keras.layers import Input, Dense, LSTM, RepeatVector, TimeDistributed\n",
        "from sklearn.cluster import KMeans\n",
        "\n",
        "# LSTM-Autoencoder 모델 정의\n",
        "scaler = StandardScaler()\n",
        "gt_at['AT_scaled'] = scaler.fit_transform(gt_at[['AT']])\n",
        "timesteps = 30  # 시퀀스 길이\n",
        "input_dim = 1   # 특성 수 (AT만 사용)\n",
        "\n",
        "def create_lstm_autoencoder(timesteps, input_dim):\n",
        "    inputs = Input(shape=(timesteps, input_dim))\n",
        "    # 인코더\n",
        "    encoded = LSTM(128, activation='relu', return_sequences=False)(inputs)\n",
        "    encoded = RepeatVector(timesteps)(encoded)\n",
        "    # 디코더\n",
        "    decoded = LSTM(128, activation='relu', return_sequences=True)(encoded)\n",
        "    decoded = TimeDistributed(Dense(input_dim))(decoded)\n",
        "    autoencoder = Model(inputs, decoded)\n",
        "    return autoencoder\n",
        "\n",
        "autoencoder = create_lstm_autoencoder(timesteps, input_dim)\n",
        "autoencoder.compile(optimizer='adam', loss='mse')\n",
        "\n",
        "# 시퀀스 데이터 생성\n",
        "def create_sequences(data, timesteps):\n",
        "    sequences = []\n",
        "    for i in range(len(data) - timesteps):\n",
        "        seq = data[i:i + timesteps]\n",
        "        sequences.append(seq)\n",
        "    return np.array(sequences)\n",
        "\n",
        "sequences = create_sequences(gt_at['AT_scaled'].values.reshape(-1, 1), timesteps)\n",
        "autoencoder.fit(sequences, sequences, epochs=50, batch_size=32, shuffle=True)\n",
        "\n",
        "# 재구성 오차 계산\n",
        "reconstructed_sequences = autoencoder.predict(sequences)\n",
        "mse = np.mean(np.power(sequences - reconstructed_sequences, 2), axis=1)\n",
        "\n",
        "# 이상 탐지 결과 시각화\n",
        "## 임계값은 보통 아래와 같이 결정됨\n",
        "threshold = np.percentile(mse, 95)  # 95% 퍼센타일을 이상 탐지 임계값으로 설정\n",
        "anomalies = mse > threshold\n",
        "\n",
        "plt.plot(gt_at['AT'].values)\n",
        "plt.scatter(np.where(anomalies)[0], gt_at['AT'].values[np.where(anomalies)[0]], color='r')  # 수정된 부분\n",
        "plt.title('Anomaly Detection using LSTM-Autoencoder')\n",
        "plt.show()\n",
        "\n",
        "# 이상치 개수 계산 및 출력\n",
        "num_anomalies = np.sum(anomalies)\n",
        "print(f\"Number of anomalies: {num_anomalies}\")"
      ]
    },
    {
      "cell_type": "code",
      "execution_count": null,
      "id": "ac5c6d4f",
      "metadata": {
        "id": "ac5c6d4f"
      },
      "outputs": [],
      "source": []
    }
  ],
  "metadata": {
    "kernelspec": {
      "display_name": "hyejin",
      "language": "python",
      "name": "hyejin"
    },
    "language_info": {
      "codemirror_mode": {
        "name": "ipython",
        "version": 3
      },
      "file_extension": ".py",
      "mimetype": "text/x-python",
      "name": "python",
      "nbconvert_exporter": "python",
      "pygments_lexer": "ipython3",
      "version": "3.10.14"
    },
    "colab": {
      "provenance": [],
      "gpuType": "T4",
      "include_colab_link": true
    },
    "accelerator": "GPU"
  },
  "nbformat": 4,
  "nbformat_minor": 5
}
